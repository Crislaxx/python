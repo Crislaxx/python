{
 "cells": [
  {
   "cell_type": "markdown",
   "metadata": {},
   "source": [
    "### 1. Variable y tipos de datos"
   ]
  },
  {
   "cell_type": "code",
   "execution_count": 5,
   "metadata": {},
   "outputs": [],
   "source": [
    "nombre = \"juan\"\n",
    "edad = 20\n",
    "altura = 1.80\n",
    "ciudad = \"Mexico\"\n",
    "es_estudiante = True\n"
   ]
  },
  {
   "cell_type": "markdown",
   "metadata": {},
   "source": [
    "## Operadores"
   ]
  },
  {
   "cell_type": "markdown",
   "metadata": {},
   "source": [
    "### a) Aritmeticos: Se usan para operaciones matematicos.\n"
   ]
  },
  {
   "cell_type": "code",
   "execution_count": null,
   "metadata": {},
   "outputs": [],
   "source": [
    "a = 10\n",
    "b = 3\n",
    "\n",
    "suma = a + b\n",
    "resta = a - b\n",
    "multiplicacion = a * b\n",
    "division = a / b\n",
    "division_entera = a // b\n",
    "modulo = a % b #retorna el resto de la division\n",
    "exponente = a ** b #eleva la potencia\n",
    "division_entera = a // b #retorna la division entera"
   ]
  },
  {
   "cell_type": "markdown",
   "metadata": {},
   "source": [
    "## b) De comparación: Se usan para comparar valores"
   ]
  },
  {
   "cell_type": "code",
   "execution_count": null,
   "metadata": {},
   "outputs": [
    {
     "data": {
      "text/plain": [
       "False"
      ]
     },
     "execution_count": 4,
     "metadata": {},
     "output_type": "execute_result"
    }
   ],
   "source": [
    "a = 10\n",
    "b = 3\n",
    "\n",
    "a == b #True si a es igual a b\n",
    "a != b #True si a es diferente a b\n",
    "a > b #True si a es mayor que b\n",
    "a < b #True si a es menor que b\n",
    "a >= b #True si a es mayor o igual que b\n",
    "a <= b #True si a es menor o igual que b"
   ]
  },
  {
   "cell_type": "markdown",
   "metadata": {},
   "source": [
    "### c) Logicos:Se usan para combinar condiciones"
   ]
  },
  {
   "cell_type": "code",
   "execution_count": 4,
   "metadata": {},
   "outputs": [],
   "source": [
    "x = True\n",
    "y = False\n",
    "\n",
    "resultado = x and y #True si x y y son verdaderos\n",
    "resultado = x or y #True si al menos uno es verdaderos    \n",
    "resultado = not x #True si x es falso y vicerversa"
   ]
  },
  {
   "cell_type": "markdown",
   "metadata": {},
   "source": [
    "## 3. Entrada y salida estandar"
   ]
  },
  {
   "cell_type": "markdown",
   "metadata": {},
   "source": [
    "#### a) Entrada (`input()`):"
   ]
  },
  {
   "cell_type": "code",
   "execution_count": 11,
   "metadata": {},
   "outputs": [
    {
     "name": "stdout",
     "output_type": "stream",
     "text": [
      "Hola, Pepe\n"
     ]
    }
   ],
   "source": [
    "nombre = input(\"¿cual es tu nombre?: \")\n",
    "print(f\"Hola, {nombre}\")"
   ]
  },
  {
   "cell_type": "markdown",
   "metadata": {},
   "source": [
    "#### b) Salida (`print()`)"
   ]
  },
  {
   "cell_type": "code",
   "execution_count": 2,
   "metadata": {},
   "outputs": [
    {
     "name": "stdout",
     "output_type": "stream",
     "text": [
      "Tengo 20 años\n"
     ]
    }
   ],
   "source": [
    "edad = 20 \n",
    "print(f\"Tengo {edad} años\") #uso de f-string para formatear salida"
   ]
  },
  {
   "cell_type": "markdown",
   "metadata": {},
   "source": [
    "## Ejercicio 1"
   ]
  },
  {
   "cell_type": "code",
   "execution_count": 9,
   "metadata": {},
   "outputs": [
    {
     "name": "stdout",
     "output_type": "stream",
     "text": [
      "¡Hola Alex! veo que tienes 20 años y eres origen de Mexico.\n"
     ]
    }
   ],
   "source": [
    "nombre = input(\"¿cual es tu nombre?: \")\n",
    "edad = input (\"¿cual es tu edad?: \")\n",
    "ciudad = input (\"¿Cual es tu ciudad de Origen\")\n",
    "\n",
    "print(f\"¡Hola {nombre}! veo que tienes {edad} años y eres origen de {ciudad}.\")"
   ]
  },
  {
   "cell_type": "markdown",
   "metadata": {},
   "source": [
    "## Ejercicio 2"
   ]
  },
  {
   "cell_type": "code",
   "execution_count": 10,
   "metadata": {},
   "outputs": [
    {
     "name": "stdout",
     "output_type": "stream",
     "text": [
      "Suma: 10\n",
      "Resta: -2\n",
      "Multiplicación: 24\n",
      "Division0.6666666666666666\n"
     ]
    }
   ],
   "source": [
    "num1 = int(input(\"Escribe el primer número: \"))\n",
    "num2 = int(input(\"Escribe el segundo número: \"))\n",
    "\n",
    "print(f\"Suma: {num1 + num2}\")\n",
    "print(f\"Resta: {num1 - num2}\")\n",
    "print(f\"Multiplicación: {num1 * num2}\")\n",
    "print(f\"Division{num1 / num2}\")"
   ]
  }
 ],
 "metadata": {
  "kernelspec": {
   "display_name": "Python 3",
   "language": "python",
   "name": "python3"
  },
  "language_info": {
   "codemirror_mode": {
    "name": "ipython",
    "version": 3
   },
   "file_extension": ".py",
   "mimetype": "text/x-python",
   "name": "python",
   "nbconvert_exporter": "python",
   "pygments_lexer": "ipython3",
   "version": "3.11.9"
  }
 },
 "nbformat": 4,
 "nbformat_minor": 2
}
