{
 "cells": [
  {
   "cell_type": "markdown",
   "metadata": {},
   "source": [
    "### Ejercicio práctico 1: Convertir una cadena en una lista y luego unirla en una nueva cadena"
   ]
  },
  {
   "cell_type": "code",
   "execution_count": 1,
   "metadata": {},
   "outputs": [
    {
     "name": "stdout",
     "output_type": "stream",
     "text": [
      "['manzana', 'banana', 'cereza']\n",
      "manzana banana cereza\n"
     ]
    }
   ],
   "source": [
    "cadena = \"manzana,banana,cereza\"\n",
    "lista_frutas = cadena.split(\",\")  \n",
    "nueva_cadena = \" \".join(lista_frutas)  \n",
    "print(lista_frutas)  \n",
    "print(nueva_cadena)"
   ]
  },
  {
   "cell_type": "markdown",
   "metadata": {},
   "source": [
    "### Ejercicio práctico 2: Convertir el mensaje a bytes y luego decodificarlo"
   ]
  },
  {
   "cell_type": "code",
   "execution_count": null,
   "metadata": {},
   "outputs": [
    {
     "name": "stdout",
     "output_type": "stream",
     "text": [
      "b'\\xc2\\xa1Hola Mundo!'\n",
      "¡Hola Mundo!\n"
     ]
    }
   ],
   "source": [
    "mensaje = \"¡Hola Mundo!\"\n",
    "mensaje_bytes = mensaje.encode('utf-8')  \n",
    "mensaje_decodificado = mensaje_bytes.decode('utf-8') \n",
    "print(mensaje_bytes)  \n",
    "print(mensaje_decodificado) "
   ]
  }
 ],
 "metadata": {
  "kernelspec": {
   "display_name": "Python 3",
   "language": "python",
   "name": "python3"
  },
  "language_info": {
   "codemirror_mode": {
    "name": "ipython",
    "version": 3
   },
   "file_extension": ".py",
   "mimetype": "text/x-python",
   "name": "python",
   "nbconvert_exporter": "python",
   "pygments_lexer": "ipython3",
   "version": "3.11.9"
  }
 },
 "nbformat": 4,
 "nbformat_minor": 2
}
