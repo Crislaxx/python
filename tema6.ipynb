{
 "cells": [
  {
   "cell_type": "code",
   "execution_count": 2,
   "metadata": {},
   "outputs": [
    {
     "name": "stdout",
     "output_type": "stream",
     "text": [
      "('rosas', 'margaritas')\n",
      "rosas\n",
      "margaritas\n",
      "('pez', 'gato')\n"
     ]
    }
   ],
   "source": [
    "flores = (\"rosas\", \"margaritas\")\n",
    "animal = [\"perro\", \"gato\"]  \n",
    "\n",
    "print(flores)\n",
    "print(flores[0])\n",
    "print(flores[1])\n",
    "\n",
    "animal[0] = \"pez\"  \n",
    "print(tuple(animal))  \n"
   ]
  },
  {
   "cell_type": "markdown",
   "metadata": {},
   "source": [
    "#### Ejercicio practico 1: Escribe un programa que solicite al usuario 3 numeros y muestre la division de entre los 3, manejando posibles errores\n"
   ]
  },
  {
   "cell_type": "code",
   "execution_count": 21,
   "metadata": {},
   "outputs": [
    {
     "name": "stdout",
     "output_type": "stream",
     "text": [
      "Error esta en el: num2❌\n"
     ]
    }
   ],
   "source": [
    "try:\n",
    "    num1 = float(input(\"Ingresa el primer número: \"))\n",
    "    num2 = float(input(\"Ingresa el segundo número: \"))\n",
    "    num3 = float(input(\"Ingresa el tercer número: \"))\n",
    "\n",
    "    errores = []\n",
    "    if num1 == 0:\n",
    "        errores.append(\"num1❌\")\n",
    "    if num2 == 0:\n",
    "        errores.append(\"num2❌\")\n",
    "    if num3 == 0:\n",
    "        errores.append(\"num3❌\")\n",
    "    if errores:\n",
    "\n",
    "        raise ZeroDivisionError  \n",
    "    resultado = num1 / num2 / num3\n",
    "    print(f\"El resultado es: {resultado}\")\n",
    "\n",
    "except ZeroDivisionError:\n",
    "    print(f\"Error esta en el: {                        ', '.join(errores)}\")\n",
    "\n",
    "except ValueError:\n",
    "    print(\"palabras no validad solo numeros. ✔️\")\n"
   ]
  }
 ],
 "metadata": {
  "kernelspec": {
   "display_name": "Python 3",
   "language": "python",
   "name": "python3"
  },
  "language_info": {
   "codemirror_mode": {
    "name": "ipython",
    "version": 3
   },
   "file_extension": ".py",
   "mimetype": "text/x-python",
   "name": "python",
   "nbconvert_exporter": "python",
   "pygments_lexer": "ipython3",
   "version": "3.11.9"
  }
 },
 "nbformat": 4,
 "nbformat_minor": 2
}
