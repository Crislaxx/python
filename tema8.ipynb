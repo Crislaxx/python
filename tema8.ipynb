{
 "cells": [
  {
   "cell_type": "markdown",
   "metadata": {},
   "source": [
    "### Entrada y salida de datos"
   ]
  },
  {
   "cell_type": "code",
   "execution_count": 11,
   "metadata": {},
   "outputs": [],
   "source": [
    "archivo = open(\"Hola.txt\", \"r\")\n"
   ]
  },
  {
   "cell_type": "code",
   "execution_count": 12,
   "metadata": {},
   "outputs": [
    {
     "name": "stdout",
     "output_type": "stream",
     "text": [
      "Hola Mundo\n",
      "crear una lista de supermercado\n",
      "* leche\n",
      "* huevo\n",
      "* pan\n",
      "* mantequilla\n",
      "* agua\n",
      "* sal \n",
      "* arroz\n",
      "* azucar\n",
      "* frijol\n",
      "\n"
     ]
    }
   ],
   "source": [
    "contenido = archivo.read()\n",
    "print(contenido)"
   ]
  },
  {
   "cell_type": "code",
   "execution_count": 13,
   "metadata": {},
   "outputs": [
    {
     "data": {
      "text/plain": [
       "0"
      ]
     },
     "execution_count": 13,
     "metadata": {},
     "output_type": "execute_result"
    }
   ],
   "source": [
    "archivo.seek(0)"
   ]
  },
  {
   "cell_type": "code",
   "execution_count": 14,
   "metadata": {},
   "outputs": [
    {
     "name": "stdout",
     "output_type": "stream",
     "text": [
      "Hola Mundo\n",
      "\n"
     ]
    }
   ],
   "source": [
    "linea = archivo.readline()\n",
    "print(linea)"
   ]
  },
  {
   "cell_type": "code",
   "execution_count": 15,
   "metadata": {},
   "outputs": [
    {
     "name": "stdout",
     "output_type": "stream",
     "text": [
      "['crear una lista de supermercado\\n', '* leche\\n', '* huevo\\n', '* pan\\n', '* mantequilla\\n', '* agua\\n', '* sal \\n', '* arroz\\n', '* azucar\\n', '* frijol\\n']\n"
     ]
    }
   ],
   "source": [
    "lineas = archivo.readlines()\n",
    "print(lineas)"
   ]
  },
  {
   "cell_type": "code",
   "execution_count": 16,
   "metadata": {},
   "outputs": [
    {
     "name": "stdout",
     "output_type": "stream",
     "text": [
      "crear una lista de supermercado\n",
      "\n",
      "* leche\n",
      "\n",
      "* huevo\n",
      "\n",
      "* pan\n",
      "\n",
      "* mantequilla\n",
      "\n",
      "* agua\n",
      "\n",
      "* sal \n",
      "\n",
      "* arroz\n",
      "\n",
      "* azucar\n",
      "\n",
      "* frijol\n",
      "\n"
     ]
    }
   ],
   "source": [
    "for linea in lineas:\n",
    "    print(linea)"
   ]
  },
  {
   "cell_type": "code",
   "execution_count": 17,
   "metadata": {},
   "outputs": [
    {
     "data": {
      "text/plain": [
       "43"
      ]
     },
     "execution_count": 17,
     "metadata": {},
     "output_type": "execute_result"
    }
   ],
   "source": [
    "archivo = open(\"Hola.txt\", \"w\")\n",
    "archivo.write(\"Este modo sobre escribe todo el contenido.\\n\")"
   ]
  },
  {
   "cell_type": "code",
   "execution_count": 18,
   "metadata": {},
   "outputs": [
    {
     "data": {
      "text/plain": [
       "21"
      ]
     },
     "execution_count": 18,
     "metadata": {},
     "output_type": "execute_result"
    }
   ],
   "source": [
    "archivo = open(\"Hola.txt\", \"a\")\n",
    "archivo.write(\"Esta linea es nueva.\\n\")"
   ]
  },
  {
   "cell_type": "code",
   "execution_count": 20,
   "metadata": {},
   "outputs": [
    {
     "name": "stdout",
     "output_type": "stream",
     "text": [
      "Este modo sobre escribe todo el contenido.\n",
      "Esta linea es nueva.\n",
      "\n"
     ]
    }
   ],
   "source": [
    "archivo = open(\"Hola.txt\", \"r\")\n",
    "contenido = archivo.read()\n",
    "print(contenido)"
   ]
  },
  {
   "cell_type": "code",
   "execution_count": 24,
   "metadata": {},
   "outputs": [],
   "source": [
    "tareas = [\"Baña al perro\", \"Bañarte\", \"Cena\", \"Jugar Futbol\"]"
   ]
  },
  {
   "cell_type": "code",
   "execution_count": 26,
   "metadata": {},
   "outputs": [],
   "source": [
    "archivo = open(\"tareas.txt\", \"w\")\n",
    "for tarea in tareas:\n",
    "    archivo.write(tarea + \"\\n\")"
   ]
  },
  {
   "cell_type": "code",
   "execution_count": null,
   "metadata": {},
   "outputs": [],
   "source": [
    "archivo = open(\"tareas.txt\", \"r\")\n",
    "lineas = archivo.readlines()\n",
    "for linea in lineas:\n",
    "    print(linea)"
   ]
  },
  {
   "cell_type": "markdown",
   "metadata": {},
   "source": []
  },
  {
   "cell_type": "code",
   "execution_count": 57,
   "metadata": {},
   "outputs": [
    {
     "name": "stdout",
     "output_type": "stream",
     "text": [
      "Tareas pendientes:\n",
      "\n",
      "caminar\n",
      "tareas2\n",
      "hola\n",
      "no\n",
      "siiii\n",
      "\n"
     ]
    }
   ],
   "source": [
    "def tareas_pendientes(tareas):\n",
    "    archivo = open(\"tareas.txt\", \"w\")\n",
    "    for tarea in tareas:\n",
    "        archivo.write(tarea + \"\\n\")\n",
    "    archivo.close()\n",
    "\n",
    "def tr():\n",
    "    tareas = []\n",
    "    while True:\n",
    "        tarea = input(\"Escribes nuevas tareas: \")\n",
    "        if tarea.isdigit():\n",
    "            break\n",
    "        tareas.append(tarea)\n",
    "\n",
    "    tareas_pendientes(tareas)\n",
    "    print(\"Tareas pendientes:\\n\")\n",
    "    with open(\"tareas.txt\", \"r\") as archivo:\n",
    "        print(archivo.read())\n",
    "\n",
    "tr()"
   ]
  }
 ],
 "metadata": {
  "kernelspec": {
   "display_name": "Python 3",
   "language": "python",
   "name": "python3"
  },
  "language_info": {
   "codemirror_mode": {
    "name": "ipython",
    "version": 3
   },
   "file_extension": ".py",
   "mimetype": "text/x-python",
   "name": "python",
   "nbconvert_exporter": "python",
   "pygments_lexer": "ipython3",
   "version": "3.11.9"
  }
 },
 "nbformat": 4,
 "nbformat_minor": 2
}
