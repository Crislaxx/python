{
 "cells": [
  {
   "cell_type": "code",
   "execution_count": 2,
   "metadata": {},
   "outputs": [],
   "source": [
    "import os\n",
    "\n",
    "class Spotify:\n",
    "    def __init__(self, nombre, artista, album, duracion, genero):\n",
    "        self.nombre = nombre\n",
    "        self.artista = artista\n",
    "        self.album = album\n",
    "        self.duracion = duracion\n",
    "        self.genero = genero\n",
    "\n",
    "    def describir(self):\n",
    "        return (f\"Nombre: {self.nombre}\\n\"\n",
    "                f\"Artista: {self.artista}\\n\"\n",
    "                f\"Álbum: {self.album}\\n\"\n",
    "                f\"Duracion: {self.duracion}\\n\"\n",
    "                f\"Genero: {self.genero}\")\n",
    "\n",
    "    def reproducir(self):\n",
    "        print(f\"Reproduciendo la cancion '{self.nombre}' de {self.artista}...\")\n",
    "\n",
    "    def guardar_canciones(self):\n",
    "        carpeta = \"canciones\"\n",
    "        os.makedirs(carpeta, exist_ok=True)\n",
    "        ruta = os.path.join(carpeta, f\"{self.nombre}.txt\")\n",
    "\n",
    "        with open(ruta, \"w\", encoding=\"utf-8\") as file:\n",
    "            file.write(self.nombre +\"\\n\")\n",
    "\n",
    "    def guardar_categoria(self):\n",
    "        carpeta = \"categorias\"\n",
    "        os.makedirs(carpeta, exist_ok=True)\n",
    "        ruta = os.path.join(carpeta, f\"{self.genero}.txt\")\n",
    "\n",
    "        with open(ruta, \"a\", encoding=\"utf-8\") as file:\n",
    "            file.write(self.describir() + \"\\n\" + \"-\" * 40 + \"\\n\")\n",
    "\n",
    "    def guardar_archivos(self):\n",
    "        self.guardar_canciones()\n",
    "        self.guardar_categoria()\n"
   ]
  },
  {
   "cell_type": "code",
   "execution_count": 3,
   "metadata": {},
   "outputs": [
    {
     "name": "stdout",
     "output_type": "stream",
     "text": [
      "Reproduciendo la cancion '40 Y 20' de jose jose...\n"
     ]
    }
   ],
   "source": [
    "cancion = Spotify(\"40 Y 20\", \"jose jose\", \"reflexiones\", \"3:25\", \"romantico\")\n",
    "cancion.reproducir()\n",
    "cancion.guardar_archivos()\n",
    "\n"
   ]
  }
 ],
 "metadata": {
  "kernelspec": {
   "display_name": "Python 3",
   "language": "python",
   "name": "python3"
  },
  "language_info": {
   "codemirror_mode": {
    "name": "ipython",
    "version": 3
   },
   "file_extension": ".py",
   "mimetype": "text/x-python",
   "name": "python",
   "nbconvert_exporter": "python",
   "pygments_lexer": "ipython3",
   "version": "3.11.9"
  }
 },
 "nbformat": 4,
 "nbformat_minor": 2
}
