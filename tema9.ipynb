{
 "cells": [
  {
   "cell_type": "markdown",
   "metadata": {},
   "source": [
    "### Tema 9 Clases y Objetos (Programación Orientada a Objetos)"
   ]
  },
  {
   "cell_type": "markdown",
   "metadata": {},
   "source": [
    "class = Fabrica\n",
    "constructor = Maquina que crea objetos\n",
    "parametros = valores de los atributos\n",
    "Las maquinas necesitan atributos y metodos para funcionar\n",
    "self = este objeto"
   ]
  },
  {
   "cell_type": "code",
   "execution_count": 4,
   "metadata": {},
   "outputs": [],
   "source": [
    "class pokemon:\n",
    "    nombre = \"\"\n",
    "    tipo = \"\"\n",
    "    ph = 0\n",
    "    ataque = 0\n",
    "    defensa = 0\n",
    "    velocidad = 0\n",
    "\n",
    "    def describir(self):\n",
    "        print(f\"Nombre: {self.nombre}\")\n",
    "        print(f\"Tipo: {self.tipo}\")\n",
    "        print(f\"Punto de vida: {self.ph}\")\n",
    "        print(f\"Ataque: {self.ataque}\")\n",
    "        print(f\"Defensa: {self.defensa}\")\n",
    "        print(f\"Velocidad: {self.velocidad}\")"
   ]
  },
  {
   "cell_type": "code",
   "execution_count": 5,
   "metadata": {},
   "outputs": [
    {
     "name": "stdout",
     "output_type": "stream",
     "text": [
      "Nombre: Pikachu\n",
      "Tipo: Electrico\n",
      "Punto de vida: 35\n",
      "Ataque: 55\n",
      "Defensa: 40\n",
      "Velocidad: 90\n"
     ]
    }
   ],
   "source": [
    "pokemon1 = pokemon()\n",
    "pokemon1.nombre = \"Pikachu\"\n",
    "pokemon1.tipo = \"Electrico\"\n",
    "pokemon1.ph = 35\n",
    "pokemon1.ataque = 55\n",
    "pokemon1.defensa = 40\n",
    "pokemon1.velocidad = 90\n",
    "pokemon1.describir()"
   ]
  },
  {
   "cell_type": "code",
   "execution_count": 36,
   "metadata": {},
   "outputs": [],
   "source": [
    "class pokemones:\n",
    "    def __init__(self, nombre, tipo, ph, ataque, defensa, velocidad):\n",
    "        self.nombre = nombre\n",
    "        self.tipo = tipo                    \n",
    "        self.ph = ph\n",
    "        self.ataque = ataque\n",
    "        self.defensa = defensa\n",
    "        self.velocidad = velocidad\n",
    "\n",
    "    def describir(self):\n",
    "        print(f\"Nombre: {self.nombre}\")\n",
    "        print(f\"Tipo: {self.tipo}\")\n",
    "        print(f\"Punto de vida: {self.ph}\")\n",
    "        print(f\"Ataque: {self.ataque}\")\n",
    "        print(f\"Defensa: {self.defensa}\")\n",
    "        print(f\"Velocidad: {self.velocidad}\")\n",
    "\n",
    "    def ataque_fuego(self):\n",
    "        print(\"El pokemon ataca con fuego\")\n",
    "\n",
    "    def ataque_agua(self):\n",
    "        print(\"El pokemon ataca con agua\")\n"
   ]
  },
  {
   "cell_type": "code",
   "execution_count": 37,
   "metadata": {},
   "outputs": [
    {
     "name": "stdout",
     "output_type": "stream",
     "text": [
      "Nombre: Pikachu\n",
      "Tipo: Electrico\n",
      "Punto de vida: 35\n",
      "Ataque: 55\n",
      "Defensa: 40\n",
      "Velocidad: 90\n",
      "El pokemon ataca con fuego\n",
      "Nombre: Charmander\n",
      "Tipo: Fuego\n",
      "Punto de vida: 39\n",
      "Ataque: 52\n",
      "Defensa: 43\n",
      "Velocidad: 65\n",
      "El pokemon ataca con agua\n",
      "Es un pokemon tipo fuego\n",
      "El pokemon ataca con fuego\n"
     ]
    }
   ],
   "source": [
    "pokemon2 = pokemones(\"Pikachu\", \"Electrico\", 35, 55, 40, 90)\n",
    "pokemon3 = pokemones(\"Charmander\", \"Fuego\", 39, 52, 43, 65)\n",
    "\n",
    "pokemon2.describir()\n",
    "pokemon2.ataque_fuego()\n",
    "\n",
    "pokemon3.describir()\n",
    "pokemon3.ataque_agua()\n",
    "\n",
    "if(pokemon3.tipo == \"Fuego\"): \n",
    "    print(\"Es un pokemon tipo fuego\")\n",
    "    pokemon3.ataque_fuego()\n",
    "elif(pokemon3.tipo == \"Agua\"):\n",
    "        print(\"Es un pokemon tipo agua\")\n",
    "        pokemon3.ataque_agua()"
   ]
  }
 ],
 "metadata": {
  "kernelspec": {
   "display_name": "Python 3",
   "language": "python",
   "name": "python3"
  },
  "language_info": {
   "codemirror_mode": {
    "name": "ipython",
    "version": 3
   },
   "file_extension": ".py",
   "mimetype": "text/x-python",
   "name": "python",
   "nbconvert_exporter": "python",
   "pygments_lexer": "ipython3",
   "version": "3.11.9"
  }
 },
 "nbformat": 4,
 "nbformat_minor": 2
}
